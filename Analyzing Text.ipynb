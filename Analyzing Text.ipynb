{
 "cells": [
  {
   "cell_type": "markdown",
   "metadata": {},
   "source": [
    "# Analyzing Text"
   ]
  },
  {
   "cell_type": "markdown",
   "metadata": {},
   "source": [
    "Write the TextAnalyzer class in the cell below. We have already imported some libraries that should be useful to you."
   ]
  },
  {
   "cell_type": "code",
   "execution_count": 42,
   "metadata": {
    "scrolled": true
   },
   "outputs": [],
   "source": [
    "import requests, re\n",
    "from bs4 import BeautifulSoup\n",
    "from collections import Counter\n",
    "import statistics as stats\n",
    "import string\n",
    "\n",
    "class TextAnalyzer:\n",
    "    \"Analyzes a text\"\n",
    "    def __init__(self, src, src_type='discover'):\n",
    "        \"\"\"Creates a object for analyzing text\n",
    "\n",
    "        Keyword arguments:\n",
    "        src (str) -- text, path to file, or url\n",
    "        src_type (str)\n",
    "            -- 'discover' : determine if src is a url, path to file, or text (default)\n",
    "            -- 'url' : website url beginning with \"http\"\n",
    "            -- 'path' : the path to a txt file ending with file extension \"txt\"\n",
    "            -- 'text' : text supplied by the user\n",
    "        \"\"\"\n",
    "        self._src_type = src_type\n",
    "        self._content = None\n",
    "        self._orig_content = src\n",
    "\n",
    "        if self._src_type == 'discover':\n",
    "            if self._orig_content[:4] == 'http':\n",
    "                self._src_type = 'url'\n",
    "            elif self._orig_content[-3:] == 'txt':\n",
    "                self._src_type = 'path'\n",
    "            else:\n",
    "                self._src_type = 'text'\n",
    "                self._content = src\n",
    "        elif self._src_type == 'path':\n",
    "            with open(self._orig_content, encoding='utf-8') as txt_file:\n",
    "                self._content = txt_file.read()\n",
    "        else:\n",
    "            self._content = src\n",
    "        \n",
    "    def set_content_to_tag(self, tag, tag_id=None):\n",
    "        \"\"\"Changes _content to the text within a specific element\n",
    "        of an HTML document\n",
    "\n",
    "        Keyword arguments:\n",
    "        tag (str) -- Tag to read\n",
    "        tag_id (str) -- ID of tag to read\n",
    "        \"\"\"\n",
    "        r = requests.get(self._orig_content)\n",
    "        content = r.text\n",
    "        soup = BeautifulSoup(content, 'lxml')\n",
    "        try:\n",
    "            self._content = soup.find(tag, id=tag_id).text\n",
    "        except:\n",
    "            raise Exception('tag was not found')\n",
    "\n",
    "    def reset_content(self):\n",
    "        \"\"\"Resets _content to full text that was originally loaded.\"\"\"\n",
    "        r = requests.get(self._orig_content)\n",
    "        content = r.text\n",
    "        self._content = content    \n",
    "\n",
    "    def _words(self, casesensitive=False):\n",
    "        \"\"\"Returns words in content as list.\n",
    "\n",
    "        Keyword arguments:\n",
    "        casesensitive (bool) -- If False makes all words uppercase.       \n",
    "        \"\"\"\n",
    "        words = self._content.split()\n",
    "        words_strip = [word.strip(string.punctuation) for word in words]\n",
    "        if casesensitive == False:\n",
    "            return [word.upper() for word in words_strip]\n",
    "        else:\n",
    "            return words_strip\n",
    "\n",
    "    def common_words(self, minlen=1, maxlen=100, count=10, casesensitive=False):\n",
    "        \"\"\"Returns a list of 2-element tuples of the format (word, num),\n",
    "        where num is the number of times word shows up in content\n",
    "\n",
    "        Keyword arguments:\n",
    "        minlen (int) -- Minimum length of words to include.\n",
    "        maxlen (int) -- Maximum length of words to include.\n",
    "        count (int) -- Number of words to include.\n",
    "        casesensitive (bool) -- If False makes all words uppercase.\n",
    "        \"\"\"\n",
    "        words = re.split(\"'| |-|\\n\", self._content)\n",
    "        words_strip = [word.strip(string.punctuation) for word in words]\n",
    "        if casesensitive == False:\n",
    "            words_strip = [word.upper() for word in words_strip]\n",
    "        final_list = [word for word in words_strip if len(word) >= minlen and len(word) <= maxlen]\n",
    "        return Counter(final_list).most_common(count)\n",
    "\n",
    "    def char_distribution(self, casesensitive=False, letters_only=False):\n",
    "        \"\"\"Returns a list of 2-element tuples of the format (char, num),\n",
    "        where num is the number of times char shows up in content\n",
    "\n",
    "        Keyword arguments:\n",
    "        casesensitive (bool) -- If False makes all words uppercase.\n",
    "        letters_only (bool) -- If False includes non-letters.\n",
    "        \"\"\"\n",
    "        words = ''.join(self._words(casesensitive))\n",
    "        if letters_only == True:\n",
    "            p = re.compile(r'[A-Za-z]')\n",
    "            words = p.findall(words)\n",
    "        return Counter(words).most_common()\n",
    "\n",
    "    def plot_common_words(self, minlen=1, maxlen=100, count=10, casesensitive=False):\n",
    "        \"\"\"Plots most common words.\n",
    "\n",
    "        Keyword arguments:\n",
    "        minlen (int) -- Minimum length of words to include.\n",
    "        maxlen (int) -- Maximum length of words to include.\n",
    "        count (int) -- Number of words to include.\n",
    "        casesensitive (bool) -- If False makes all words uppercase.\n",
    "        \"\"\"\n",
    "        index_names = []\n",
    "        values = []\n",
    "        common_words = self.common_words(minlen, maxlen, count, casesensitive)\n",
    "        for tuple in common_words:\n",
    "            index_names.append(tuple[0])\n",
    "            values.append(tuple[1])\n",
    "        ps = pd.Series(values, index=index_names)\n",
    "        plt_ps = ps.plot(\n",
    "            kind = 'bar',\n",
    "            title = \"Common Words\",\n",
    "            figsize = (12, 4),\n",
    "            width = 0.75\n",
    "        )\n",
    "        plt_ps.set_yticks(np.arange(0, 800, 100))\n",
    "        plt_ps.tick_params(left = False, bottom = False)\n",
    "        plt_ps.set_axisbelow(True)\n",
    "        plt_ps.grid(True, linestyle = 'dotted');\n",
    "\n",
    "    def plot_char_distribution(self, casesensitive=False, letters_only=False):\n",
    "        \"\"\"Plots character distribution.\n",
    "\n",
    "        Keyword arguments:\n",
    "        casesensitive (bool) -- If False makes all words uppercase.\n",
    "        letters_only (bool) -- If False includes non-letters.        \n",
    "        \"\"\"\n",
    "        index_names = []\n",
    "        values = []\n",
    "        char_list = self.char_distribution(casesensitive, letters_only)\n",
    "        for tuple in char_list:\n",
    "            index_names.append(tuple[0])\n",
    "            values.append(tuple[1])\n",
    "        ps = pd.Series(values, index=index_names)\n",
    "        plt_ps = ps.plot(\n",
    "            kind = 'bar',\n",
    "            title = 'Character Distribution',\n",
    "            figsize = (12, 4),\n",
    "            width = 0.75\n",
    "        )\n",
    "        plt_ps.set_ylim(0, 70000)\n",
    "        plt_ps.tick_params(left = False, bottom = False)\n",
    "        plt_ps.set_axisbelow(True)\n",
    "        plt_ps.grid(True, linestyle = 'dotted');\n",
    "\n",
    "    @property\n",
    "    def content(self):\n",
    "        \"\"\"Returns content\"\"\"\n",
    "        return self._content\n",
    "\n",
    "    @property\n",
    "    def words(self):\n",
    "        \"\"\"A list of all words used in content,\n",
    "        including repeats, in all uppercase letters.\"\"\"\n",
    "        return self._words()\n",
    "\n",
    "    @property\n",
    "    def avg_word_length(self):\n",
    "        \"\"\"Average word length\"\"\"\n",
    "        words = self._words()\n",
    "        length_array = [len(word) for word in words]\n",
    "        return round(sum(length_array) / len(length_array), 2)\n",
    "\n",
    "    @property\n",
    "    def word_count(self):\n",
    "        \"\"\"Number of words in content\"\"\"\n",
    "        return len(self._words())\n",
    "\n",
    "    @property\n",
    "    def distinct_word_count(self):\n",
    "        \"\"\"Number of distinct words in content\"\"\"\n",
    "        return len(set(self._words()))\n",
    "\n",
    "    @property\n",
    "    def positivity(self):\n",
    "        \"\"\"A positivity score calculated as follows:\n",
    "        * Create local tally variable with initial value of 0.\n",
    "        * Increment tally by 1 for every word in self.words found in positive.txt\n",
    "        * Decrement tally by 1 for every word in self.words found in negative.txt\n",
    "        * Calculate score as follows:\n",
    "            round( tally / self.word_count * 1000)\n",
    "        \"\"\"\n",
    "        tally = 0\n",
    "        with open('positive.txt', encoding='utf-8') as f:\n",
    "            pos_list = f.read().splitlines()\n",
    "        with open('negative.txt', encoding='utf-8') as f:\n",
    "            neg_list = f.read().splitlines()\n",
    "        for word in self.words:\n",
    "            if word in pos_list:\n",
    "                tally += 1\n",
    "            elif word in neg_list:\n",
    "                tally -= 1\n",
    "        return round(tally/self.word_count * 1000)"
   ]
  },
  {
   "cell_type": "markdown",
   "metadata": {},
   "source": [
    "## Tests\n",
    "When you have finished, you should run the tests below. If you get errors, you should do your very best to fix those errors before submitting the project.\n",
    "\n",
    "If you submit your project while still getting errors, you should explain that in your project submission email. The very first thing we will do to grade your project is run it through these tests. If it fails any of the tests, and you have not indicated that you are aware of specific test failures, we will stop grading and ask you to resubmit."
   ]
  },
  {
   "cell_type": "code",
   "execution_count": 43,
   "metadata": {},
   "outputs": [
    {
     "name": "stderr",
     "output_type": "stream",
     "text": [
      "...........\n",
      "----------------------------------------------------------------------\n",
      "Ran 11 tests in 0.336s\n",
      "\n",
      "OK\n"
     ]
    },
    {
     "data": {
      "text/plain": [
       "<unittest.runner.TextTestResult run=11 errors=0 failures=0>"
      ]
     },
     "execution_count": 43,
     "metadata": {},
     "output_type": "execute_result"
    }
   ],
   "source": [
    "import unittest\n",
    "\n",
    "url = 'https://static.webucator.com/media/public/documents/clinton.html'\n",
    "path = 'pride-and-prejudice.txt'\n",
    "text = '''The outlook wasn't brilliant for the Mudville Nine that day;\n",
    "the score stood four to two, with but one inning more to play.\n",
    "And then when Cooney died at first, and Barrows did the same,\n",
    "a sickly silence fell upon the patrons of the game.'''\n",
    "\n",
    "class TestTextAnalyzer(unittest.TestCase):\n",
    "    def test_discover_url(self):\n",
    "        ta = TextAnalyzer(url)\n",
    "        self.assertEqual(ta._src_type, 'url')\n",
    "    def test_discover_path(self):\n",
    "        ta = TextAnalyzer(path)\n",
    "        self.assertEqual(ta._src_type, 'path')\n",
    "    def test_discover_text(self):\n",
    "        ta = TextAnalyzer(text)\n",
    "        self.assertEqual(ta._src_type, 'text')\n",
    "    def test_set_content_to_tag(self):\n",
    "        ta = TextAnalyzer(url)\n",
    "        ta.set_content_to_tag('div','content-main')\n",
    "        self.assertEqual(ta._content[0:23], 'Address by Bill Clinton')\n",
    "    def test_reset_content(self):\n",
    "        ta = TextAnalyzer(url)\n",
    "        ta.set_content_to_tag('div','content-main')\n",
    "        ta.reset_content()\n",
    "        self.assertEqual(ta._content[0], '<')\n",
    "    def test_common_words(self):\n",
    "        ta = TextAnalyzer(path, src_type='path')\n",
    "        common_words = ta.common_words(minlen=5, maxlen=10)\n",
    "        liz = common_words[0]\n",
    "        self.assertEqual(liz[0],'ELIZABETH')\n",
    "    def test_avg_word_length(self):\n",
    "        ta = TextAnalyzer(text, src_type='text')\n",
    "        self.assertEqual(ta.avg_word_length, 4.16)\n",
    "    def test_word_count(self):\n",
    "        ta = TextAnalyzer(text, src_type='text')\n",
    "        self.assertEqual(ta.word_count, 45)\n",
    "    def test_distinct_word_count(self):\n",
    "        ta = TextAnalyzer(text, src_type='text')\n",
    "        self.assertEqual(ta.distinct_word_count, 38)\n",
    "    def test_char_distribution(self):\n",
    "        ta = TextAnalyzer(text, src_type='text')\n",
    "        char_dist = ta.char_distribution(letters_only=True)\n",
    "        self.assertEqual(char_dist[1][1], 20)\n",
    "    def test_positivity(self):\n",
    "        ta = TextAnalyzer(text, src_type='text')\n",
    "        positivity = ta.positivity\n",
    "        self.assertEqual(positivity, -44)\n",
    "        \n",
    "suite = unittest.TestLoader().loadTestsFromTestCase(TestTextAnalyzer)\n",
    "unittest.TextTestRunner().run(suite)"
   ]
  },
  {
   "cell_type": "markdown",
   "metadata": {},
   "source": [
    "## Plots\n",
    "You should also run the cell below to make sure your plot methods work. They should produce plots that look like the images found at:\n",
    "* <a href=\"character-distribution.png\" target=\"image_win\">character-distribution.png</a>\n",
    "* <a href=\"common-words.png\" target=\"image_win\">common-words.png</a>"
   ]
  },
  {
   "cell_type": "code",
   "execution_count": 47,
   "metadata": {
    "scrolled": true
   },
   "outputs": [
    {
     "data": {
      "image/png": "[encoded data removed]",
      "text/plain": [
       "<Figure size 1200x400 with 1 Axes>"
      ]
     },
     "metadata": {},
     "output_type": "display_data"
    }
   ],
   "source": [
    "%matplotlib inline\n",
    "import numpy as np\n",
    "import pandas as pd\n",
    "\n",
    "pd.set_option('display.max_columns', 10)\n",
    "pd.set_option('display.max_rows', 10)\n",
    "\n",
    "ta = TextAnalyzer('pride-and-prejudice.txt', src_type='path')\n",
    "ta.plot_common_words(minlen=5)\n",
    "ta.plot_char_distribution(letters_only=True)"
   ]
  },
  {
   "cell_type": "markdown",
   "metadata": {},
   "source": [
    "## Exam: Using the TextAnalyzer"
   ]
  },
  {
   "cell_type": "markdown",
   "metadata": {},
   "source": [
    "### Question 1\n",
    "How many words are in the text of William Henry Harrison's 1841 inaugural address?\n",
    "* The address can be found at https://static.webucator.com/media/public/documents/harrison.html.\n",
    "* Its contents are in a div tag with the id 'content-main'."
   ]
  },
  {
   "cell_type": "code",
   "execution_count": 48,
   "metadata": {},
   "outputs": [
    {
     "data": {
      "text/plain": [
       "8430"
      ]
     },
     "execution_count": 48,
     "metadata": {},
     "output_type": "execute_result"
    }
   ],
   "source": [
    "ta = TextAnalyzer('https://static.webucator.com/media/public/documents/harrison.html', src_type='url')\n",
    "ta.set_content_to_tag('div','content-main')\n",
    "ta.word_count"
   ]
  },
  {
   "cell_type": "markdown",
   "metadata": {},
   "source": [
    "### Question 2\n",
    "What is the least common letter in pride-and-prejudice.txt?"
   ]
  },
  {
   "cell_type": "code",
   "execution_count": 49,
   "metadata": {},
   "outputs": [
    {
     "data": {
      "text/plain": [
       "[('E', 69372),\n",
       " ('T', 46645),\n",
       " ('A', 41682),\n",
       " ('O', 40043),\n",
       " ('I', 37830),\n",
       " ('N', 37688),\n",
       " ('H', 34069),\n",
       " ('S', 33110),\n",
       " ('R', 32300),\n",
       " ('D', 22299),\n",
       " ('L', 21592),\n",
       " ('U', 14986),\n",
       " ('M', 14765),\n",
       " ('C', 13461),\n",
       " ('Y', 12705),\n",
       " ('W', 12308),\n",
       " ('F', 12001),\n",
       " ('G', 10033),\n",
       " ('B', 9089),\n",
       " ('P', 8226),\n",
       " ('V', 5726),\n",
       " ('K', 3209),\n",
       " ('Z', 936),\n",
       " ('J', 871),\n",
       " ('X', 839),\n",
       " ('Q', 627)]"
      ]
     },
     "execution_count": 49,
     "metadata": {},
     "output_type": "execute_result"
    }
   ],
   "source": [
    "ta = TextAnalyzer('pride-and-prejudice.txt', src_type='path')\n",
    "ta.char_distribution(casesensitive=False, letters_only=True)"
   ]
  },
  {
   "cell_type": "markdown",
   "metadata": {},
   "source": [
    "### Question 3\n",
    "What is the most common 11-letter word in pride-and-prejudice.txt?  "
   ]
  },
  {
   "cell_type": "code",
   "execution_count": 50,
   "metadata": {
    "scrolled": true
   },
   "outputs": [
    {
     "data": {
      "text/plain": [
       "[('NETHERFIELD', 73)]"
      ]
     },
     "execution_count": 50,
     "metadata": {},
     "output_type": "execute_result"
    }
   ],
   "source": [
    "ta.common_words(minlen=11, maxlen=11, count=1, casesensitive=False)"
   ]
  },
  {
   "cell_type": "markdown",
   "metadata": {},
   "source": [
    "### Question 4\n",
    "What is the average word length in pride-and-prejudice.txt?"
   ]
  },
  {
   "cell_type": "code",
   "execution_count": 51,
   "metadata": {},
   "outputs": [
    {
     "data": {
      "text/plain": [
       "4.43"
      ]
     },
     "execution_count": 51,
     "metadata": {},
     "output_type": "execute_result"
    }
   ],
   "source": [
    "ta.avg_word_length"
   ]
  },
  {
   "cell_type": "markdown",
   "metadata": {},
   "source": [
    "### Question 5\n",
    "How many distinct words are there in pride-and-prejudice.txt?"
   ]
  },
  {
   "cell_type": "code",
   "execution_count": 52,
   "metadata": {},
   "outputs": [
    {
     "data": {
      "text/plain": [
       "6839"
      ]
     },
     "execution_count": 52,
     "metadata": {},
     "output_type": "execute_result"
    }
   ],
   "source": [
    "ta.distinct_word_count"
   ]
  },
  {
   "cell_type": "markdown",
   "metadata": {},
   "source": [
    "### Question 6\n",
    "How many words, ignoring case, are used only once in pride-and-prejudice.txt?"
   ]
  },
  {
   "cell_type": "code",
   "execution_count": 53,
   "metadata": {},
   "outputs": [
    {
     "data": {
      "text/plain": [
       "2886"
      ]
     },
     "execution_count": 53,
     "metadata": {},
     "output_type": "execute_result"
    }
   ],
   "source": [
    "full_list = ta.words\n",
    "count_list = Counter(full_list).most_common()\n",
    "precious_words = [word for word in count_list if word[1] == 1]\n",
    "len(precious_words)"
   ]
  },
  {
   "cell_type": "markdown",
   "metadata": {},
   "source": [
    "### Question 7\n",
    "How many distinct words in pride-and-prejudice.txt have less than five characters, at least one character of which is a capital 'A'."
   ]
  },
  {
   "cell_type": "code",
   "execution_count": 54,
   "metadata": {},
   "outputs": [
    {
     "data": {
      "text/plain": [
       "13"
      ]
     },
     "execution_count": 54,
     "metadata": {},
     "output_type": "execute_result"
    }
   ],
   "source": [
    "distinct_words = set(ta._words(casesensitive=True))\n",
    "short_words = [word for word in distinct_words if len(word) < 5]\n",
    "a_words = []\n",
    "for word in short_words:\n",
    "    if word.find('A') != -1:\n",
    "      a_words.append(word)\n",
    "len(a_words)"
   ]
  },
  {
   "cell_type": "markdown",
   "metadata": {},
   "source": [
    "### Question 8\n",
    "A palindrome is a word spelled the same forwards and backwards, like BOB. How many distinct palindromes are there in pride-and-prejudice.txt.\n",
    "* Only include words with at least three letters."
   ]
  },
  {
   "cell_type": "code",
   "execution_count": 55,
   "metadata": {},
   "outputs": [
    {
     "data": {
      "text/plain": [
       "9"
      ]
     },
     "execution_count": 55,
     "metadata": {},
     "output_type": "execute_result"
    }
   ],
   "source": [
    "distinct_words = set(ta.words)\n",
    "longer_words = [word for word in distinct_words if len(word) >= 3]\n",
    "pals = []\n",
    "for word in longer_words:\n",
    "    if word == word[::-1]:\n",
    "        pals.append(word)\n",
    "len(pals)"
   ]
  },
  {
   "cell_type": "markdown",
   "metadata": {},
   "source": [
    "### Question 9\n",
    "What is the positivity rating of 'pride-and-prejudice.txt'"
   ]
  },
  {
   "cell_type": "code",
   "execution_count": 56,
   "metadata": {},
   "outputs": [
    {
     "data": {
      "text/plain": [
       "11"
      ]
     },
     "execution_count": 56,
     "metadata": {},
     "output_type": "execute_result"
    }
   ],
   "source": [
    "ta.positivity"
   ]
  },
  {
   "cell_type": "markdown",
   "metadata": {},
   "source": [
    "### Question 10\n",
    "Which of the following addresses (originally from http://www.inaugural.senate.gov/swearing-in/addresses) has the lowest positivity rating?\n",
    "1. https://static.webucator.com/media/public/documents/bush.html\n",
    "1. https://static.webucator.com/media/public/documents/truman.html\n",
    "1. https://static.webucator.com/media/public/documents/mckinley.html\n",
    "1. https://static.webucator.com/media/public/documents/taylor.html\n",
    "\n",
    "Note the contents of the addresses are in a div tag with the id 'content-main'."
   ]
  },
  {
   "cell_type": "code",
   "execution_count": 57,
   "metadata": {},
   "outputs": [
    {
     "data": {
      "text/plain": [
       "{'Bush': 39, 'Truman': 49, 'McKinley': 31, 'Taylor': 50}"
      ]
     },
     "execution_count": 57,
     "metadata": {},
     "output_type": "execute_result"
    }
   ],
   "source": [
    "url_1 = 'https://static.webucator.com/media/public/documents/bush.html'\n",
    "url_2 = 'https://static.webucator.com/media/public/documents/truman.html'\n",
    "url_3 = 'https://static.webucator.com/media/public/documents/mckinley.html'\n",
    "url_4 = 'https://static.webucator.com/media/public/documents/taylor.html'\n",
    "urls = [url_1, url_2, url_3, url_4]\n",
    "pres = ['Bush', 'Truman', 'McKinley', 'Taylor']\n",
    "pos_score = []\n",
    "for url in urls:\n",
    "    ta = TextAnalyzer(url)\n",
    "    ta.set_content_to_tag('div','content-main')\n",
    "    pos_score.append(ta.positivity)\n",
    "pres_pos = dict(zip(pres, pos_score))\n",
    "pres_pos"
   ]
  },
  {
   "cell_type": "code",
   "execution_count": 58,
   "metadata": {},
   "outputs": [
    {
     "name": "stdout",
     "output_type": "stream",
     "text": [
      "Help on class TextAnalyzer in module __main__:\n",
      "\n",
      "class TextAnalyzer(builtins.object)\n",
      " |  TextAnalyzer(src, src_type='discover')\n",
      " |  \n",
      " |  Analyzes a text\n",
      " |  \n",
      " |  Methods defined here:\n",
      " |  \n",
      " |  __init__(self, src, src_type='discover')\n",
      " |      Creates a object for analyzing text\n",
      " |      \n",
      " |      Keyword arguments:\n",
      " |      src (str) -- text, path to file, or url\n",
      " |      src_type (str)\n",
      " |          -- 'discover' : determine if src is a url, path to file, or text (default)\n",
      " |          -- 'url' : website url beginning with \"http\"\n",
      " |          -- 'path' : the path to a txt file ending with file extension \"txt\"\n",
      " |          -- 'text' : text supplied by the user\n",
      " |  \n",
      " |  char_distribution(self, casesensitive=False, letters_only=False)\n",
      " |      Returns a list of 2-element tuples of the format (char, num),\n",
      " |      where num is the number of times char shows up in content\n",
      " |      \n",
      " |      Keyword arguments:\n",
      " |      casesensitive (bool) -- If False makes all words uppercase.\n",
      " |      letters_only (bool) -- If False includes non-letters.\n",
      " |  \n",
      " |  common_words(self, minlen=1, maxlen=100, count=10, casesensitive=False)\n",
      " |      Returns a list of 2-element tuples of the format (word, num),\n",
      " |      where num is the number of times word shows up in content\n",
      " |      \n",
      " |      Keyword arguments:\n",
      " |      minlen (int) -- Minimum length of words to include.\n",
      " |      maxlen (int) -- Maximum length of words to include.\n",
      " |      count (int) -- Number of words to include.\n",
      " |      casesensitive (bool) -- If False makes all words uppercase.\n",
      " |  \n",
      " |  plot_char_distribution(self, casesensitive=False, letters_only=False)\n",
      " |      Plots character distribution.\n",
      " |      \n",
      " |      Keyword arguments:\n",
      " |      casesensitive (bool) -- If False makes all words uppercase.\n",
      " |      letters_only (bool) -- If False includes non-letters.\n",
      " |  \n",
      " |  plot_common_words(self, minlen=1, maxlen=100, count=10, casesensitive=False)\n",
      " |      Plots most common words.\n",
      " |      \n",
      " |      Keyword arguments:\n",
      " |      minlen (int) -- Minimum length of words to include.\n",
      " |      maxlen (int) -- Maximum length of words to include.\n",
      " |      count (int) -- Number of words to include.\n",
      " |      casesensitive (bool) -- If False makes all words uppercase.\n",
      " |  \n",
      " |  reset_content(self)\n",
      " |      Resets _content to full text that was originally loaded.\n",
      " |  \n",
      " |  set_content_to_tag(self, tag, tag_id=None)\n",
      " |      Changes _content to the text within a specific element\n",
      " |      of an HTML document\n",
      " |      \n",
      " |      Keyword arguments:\n",
      " |      tag (str) -- Tag to read\n",
      " |      tag_id (str) -- ID of tag to read\n",
      " |  \n",
      " |  ----------------------------------------------------------------------\n",
      " |  Readonly properties defined here:\n",
      " |  \n",
      " |  avg_word_length\n",
      " |      Average word length\n",
      " |  \n",
      " |  content\n",
      " |      Returns content\n",
      " |  \n",
      " |  distinct_word_count\n",
      " |      Number of distinct words in content\n",
      " |  \n",
      " |  positivity\n",
      " |      A positivity score calculated as follows:\n",
      " |      * Create local tally variable with initial value of 0.\n",
      " |      * Increment tally by 1 for every word in self.words found in positive.txt\n",
      " |      * Decrement tally by 1 for every word in self.words found in negative.txt\n",
      " |      * Calculate score as follows:\n",
      " |          round( tally / self.word_count * 1000)\n",
      " |  \n",
      " |  word_count\n",
      " |      Number of words in content\n",
      " |  \n",
      " |  words\n",
      " |      A list of all words used in content,\n",
      " |      including repeats, in all uppercase letters.\n",
      " |  \n",
      " |  ----------------------------------------------------------------------\n",
      " |  Data descriptors defined here:\n",
      " |  \n",
      " |  __dict__\n",
      " |      dictionary for instance variables (if defined)\n",
      " |  \n",
      " |  __weakref__\n",
      " |      list of weak references to the object (if defined)\n",
      "\n"
     ]
    }
   ],
   "source": [
    "help(TextAnalyzer)"
   ]
  }
 ],
 "metadata": {
  "kernelspec": {
   "display_name": "Python 3 (ipykernel)",
   "language": "python",
   "name": "python3"
  },
  "language_info": {
   "codemirror_mode": {
    "name": "ipython",
    "version": 3
   },
   "file_extension": ".py",
   "mimetype": "text/x-python",
   "name": "python",
   "nbconvert_exporter": "python",
   "pygments_lexer": "ipython3",
   "version": "3.11.4"
  }
 },
 "nbformat": 4,
 "nbformat_minor": 4
}
